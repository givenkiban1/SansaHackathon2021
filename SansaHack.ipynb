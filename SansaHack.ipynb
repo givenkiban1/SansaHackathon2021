{
  "nbformat": 4,
  "nbformat_minor": 0,
  "metadata": {
    "colab": {
      "name": "SansaHack.ipynb",
      "provenance": [],
      "collapsed_sections": []
    },
    "kernelspec": {
      "name": "python3",
      "display_name": "Python 3"
    },
    "language_info": {
      "name": "python"
    }
  },
  "cells": [
    {
      "cell_type": "markdown",
      "metadata": {
        "id": "m2yTFI8QIr6_"
      },
      "source": [
        "Importing all important libraries"
      ]
    },
    {
      "cell_type": "code",
      "metadata": {
        "id": "nFkmyYZ6IbMh"
      },
      "source": [
        "import firebase_admin\n",
        "from firebase_admin import credentials\n",
        "import requests as r\n",
        "from firebase_admin import db\n",
        "import json\n",
        "import pandas as pd"
      ],
      "execution_count": null,
      "outputs": []
    },
    {
      "cell_type": "code",
      "metadata": {
        "id": "rLqHCpXWImvv"
      },
      "source": [
        "databaseURL = \"https://sansahack2-default-rtdb.firebaseio.com/\"\n",
        "x_ray_flux = \"https://services.swpc.noaa.gov/json/goes/primary/xrays-1-day.json\"\n",
        "solar_flare_ace = \"https://services.swpc.noaa.gov/json/ace/swepam/ace_swepam_1h.json\""
      ],
      "execution_count": null,
      "outputs": []
    },
    {
      "cell_type": "code",
      "metadata": {
        "id": "uaPxdzNAI6gw"
      },
      "source": [
        "cred = credentials.Certificate(\"serviceConfig.json\")\n",
        "if not firebase_admin._apps:\n",
        "  firebase_admin.initialize_app(cred, {\n",
        "      \"app\"\n",
        "      \"databaseURL\": databaseURL\n",
        "  })\n",
        "\n",
        "# Get a database reference to our posts\n",
        "ref1 = db.reference('realtime/x_ray_flux')\n",
        "ref2 = db.reference('realtime/solar_wind')\n",
        "ref3 = db.reference('alerts/solar_flare')\n"
      ],
      "execution_count": null,
      "outputs": []
    },
    {
      "cell_type": "code",
      "metadata": {
        "colab": {
          "base_uri": "https://localhost:8080/"
        },
        "id": "URPhFKytI-Zx",
        "outputId": "5abe000f-6ec6-4b39-cb6d-b82367714b05"
      },
      "source": [
        "#request\n",
        "x_ray_req = r.get(x_ray_flux)\n",
        "solar_flare_req = r.get(solar_flare_ace)\n",
        "\n",
        "#response\n",
        "x_ray_resp = x_ray_req.json()\n",
        "\n",
        "solar_flare_resp = solar_flare_req.json()\n",
        "\n",
        "with open('x_ray.json', 'w') as json_file:\n",
        "    json.dump(x_ray_resp, json_file)\n",
        "\n",
        "with open('solar_wind.json', 'w') as json_file:\n",
        "    json.dump(solar_flare_resp, json_file)\n",
        "\n",
        "print(\"Done\")"
      ],
      "execution_count": null,
      "outputs": [
        {
          "output_type": "stream",
          "text": [
            "Done\n"
          ],
          "name": "stdout"
        }
      ]
    },
    {
      "cell_type": "code",
      "metadata": {
        "colab": {
          "base_uri": "https://localhost:8080/"
        },
        "id": "hark7MSzJEAA",
        "outputId": "d46e3fe7-2618-4ca7-c6c3-977c7ab4b5c6"
      },
      "source": [
        "#determining if there's a solar flare\n",
        "\n",
        "#find an average over past 24 hours\n",
        "#find average over past 6 hours\n",
        "\n",
        "#if current flare > average flare (24 hours)\n",
        "#check if average over 6 hours>average over 24 hours, flares have definitely occured\n",
        "\n",
        "df = pd.read_json(\"x_ray.json\")\n",
        "\n",
        "print(df)"
      ],
      "execution_count": null,
      "outputs": [
        {
          "output_type": "stream",
          "text": [
            "                  time_tag  satellite  ...  electron_contaminaton      energy\n",
            "0     2021-06-25T08:48:00Z         16  ...                  False  0.05-0.4nm\n",
            "1     2021-06-25T08:48:00Z         16  ...                  False   0.1-0.8nm\n",
            "2     2021-06-25T08:49:00Z         16  ...                  False  0.05-0.4nm\n",
            "3     2021-06-25T08:49:00Z         16  ...                  False   0.1-0.8nm\n",
            "4     2021-06-25T08:50:00Z         16  ...                  False  0.05-0.4nm\n",
            "...                    ...        ...  ...                    ...         ...\n",
            "2871  2021-06-26T08:43:00Z         16  ...                  False   0.1-0.8nm\n",
            "2872  2021-06-26T08:44:00Z         16  ...                  False  0.05-0.4nm\n",
            "2873  2021-06-26T08:44:00Z         16  ...                  False   0.1-0.8nm\n",
            "2874  2021-06-26T08:45:00Z         16  ...                  False  0.05-0.4nm\n",
            "2875  2021-06-26T08:45:00Z         16  ...                  False   0.1-0.8nm\n",
            "\n",
            "[2876 rows x 7 columns]\n"
          ],
          "name": "stdout"
        }
      ]
    },
    {
      "cell_type": "code",
      "metadata": {
        "colab": {
          "base_uri": "https://localhost:8080/"
        },
        "id": "d05JXmLfirjw",
        "outputId": "2642b02f-89da-45fa-991f-d374c7490645"
      },
      "source": [
        "df2 = pd.read_json(\"solar_wind.json\")\n",
        "print(df2)"
      ],
      "execution_count": null,
      "outputs": [
        {
          "output_type": "stream",
          "text": [
            "                time_tag  dsflag      dens      speed  temperature\n",
            "0    2021-06-26T09:00:00       0  3.278969  373.84830    48923.262\n",
            "1    2021-06-26T08:00:00       0  2.813893  380.70688    33511.863\n",
            "2    2021-06-26T07:00:00       0  3.105202  378.35623    26306.730\n",
            "3    2021-06-26T06:00:00       0  2.473381  376.91907    58685.516\n",
            "4    2021-06-26T05:00:00       0  1.637354  392.22452    47881.285\n",
            "..                   ...     ...       ...        ...          ...\n",
            "703  2021-05-26T15:00:00       0  1.194139  349.71158    85873.914\n",
            "704  2021-05-26T14:00:00       1  1.438353  345.99432    96774.156\n",
            "705  2021-05-26T13:00:00       1  0.876702  334.82684    63033.637\n",
            "706  2021-05-26T12:00:00       0  1.118588  342.30496    72164.172\n",
            "707  2021-05-26T11:00:00       1  1.489230  302.70419    30185.801\n",
            "\n",
            "[708 rows x 5 columns]\n"
          ],
          "name": "stdout"
        }
      ]
    },
    {
      "cell_type": "code",
      "metadata": {
        "colab": {
          "base_uri": "https://localhost:8080/"
        },
        "id": "6zQ26p4PJwTC",
        "outputId": "98bf6d7e-a38d-45b7-a5ec-2b27b7f086f9"
      },
      "source": [
        "#last item in dataset\n",
        "print(df.last_valid_index())\n",
        "last = df.tail(1)"
      ],
      "execution_count": null,
      "outputs": [
        {
          "output_type": "stream",
          "text": [
            "2875\n"
          ],
          "name": "stdout"
        }
      ]
    },
    {
      "cell_type": "code",
      "metadata": {
        "colab": {
          "base_uri": "https://localhost:8080/"
        },
        "id": "XkZiPIk2i1nu",
        "outputId": "d1436109-4737-4bb0-c3c7-821dbe2f341b"
      },
      "source": [
        "print(df2.last_valid_index())\n",
        "first = df2.head(1)"
      ],
      "execution_count": null,
      "outputs": [
        {
          "output_type": "stream",
          "text": [
            "707\n"
          ],
          "name": "stdout"
        }
      ]
    },
    {
      "cell_type": "code",
      "metadata": {
        "id": "vUGIgCUsKt3A"
      },
      "source": [
        "last_t = last[\"time_tag\"].to_string()\n",
        "last_t = last_t.split(\"    \")\n",
        "last_t = last_t[1]"
      ],
      "execution_count": null,
      "outputs": []
    },
    {
      "cell_type": "code",
      "metadata": {
        "id": "WIVyddLBqNHk"
      },
      "source": [
        "first = first[\"time_tag\"].to_string()\n",
        "first = first.split(\"    \")\n",
        "first = first[1]"
      ],
      "execution_count": null,
      "outputs": []
    },
    {
      "cell_type": "code",
      "metadata": {
        "id": "cz7vtOSoQBC3"
      },
      "source": [
        "import datetime\n",
        "from datetime import datetime, timedelta"
      ],
      "execution_count": null,
      "outputs": []
    },
    {
      "cell_type": "code",
      "metadata": {
        "id": "g2wsIv7vQ2x7"
      },
      "source": [
        "format = \"%Y-%m-%dT%H:%M:%SZ\"\n",
        "t = datetime.strptime(last_t, format)\n",
        "\n",
        "yt = datetime.strftime(t - timedelta(1), format)"
      ],
      "execution_count": null,
      "outputs": []
    },
    {
      "cell_type": "code",
      "metadata": {
        "colab": {
          "base_uri": "https://localhost:8080/"
        },
        "id": "GmXDCkesqVGm",
        "outputId": "bcc404a2-4f2f-40eb-e53e-9a191794e5df"
      },
      "source": [
        "print(last_t2)"
      ],
      "execution_count": null,
      "outputs": [
        {
          "output_type": "stream",
          "text": [
            "2021-06-26T08:45:00Z\n"
          ],
          "name": "stdout"
        }
      ]
    },
    {
      "cell_type": "code",
      "metadata": {
        "colab": {
          "base_uri": "https://localhost:8080/"
        },
        "id": "eTx9iZAiSIv1",
        "outputId": "e9a0e324-6585-4ea6-87a7-3537e4148f24"
      },
      "source": [
        "print(yt)"
      ],
      "execution_count": null,
      "outputs": [
        {
          "output_type": "stream",
          "text": [
            "2021-06-25T08:45:00Z\n"
          ],
          "name": "stdout"
        }
      ]
    },
    {
      "cell_type": "code",
      "metadata": {
        "id": "EyY_YPsTTGxb"
      },
      "source": [
        "last24 = df.loc[(df['time_tag'] >= yt) & (df['time_tag'] <= last_t)]\n",
        "\n",
        "#slaps face when sees that this is data for last 24hours..."
      ],
      "execution_count": null,
      "outputs": []
    },
    {
      "cell_type": "code",
      "metadata": {
        "colab": {
          "base_uri": "https://localhost:8080/"
        },
        "id": "4l5AeGNfT3j-",
        "outputId": "60a710f3-e086-43bd-aa6f-e3047612183f"
      },
      "source": [
        "#avg over 24 hours\n",
        "print(last24[\"flux\"].mean())"
      ],
      "execution_count": null,
      "outputs": [
        {
          "output_type": "stream",
          "text": [
            "1.0712881075900111e-07\n"
          ],
          "name": "stdout"
        }
      ]
    },
    {
      "cell_type": "code",
      "metadata": {
        "id": "9IWLxQD9UMqf"
      },
      "source": [
        "#avg over last 6 hours\n",
        "last6HoursDateTime = t - timedelta(hours = 6)\n",
        "l6 = datetime.strftime(last6HoursDateTime, format)"
      ],
      "execution_count": null,
      "outputs": []
    },
    {
      "cell_type": "code",
      "metadata": {
        "colab": {
          "base_uri": "https://localhost:8080/"
        },
        "id": "rNUxNp5NVOnZ",
        "outputId": "170c6d27-8fc1-495c-db13-54e2e3edd501"
      },
      "source": [
        "print(l6)\n",
        "print(type(l6))"
      ],
      "execution_count": null,
      "outputs": [
        {
          "output_type": "stream",
          "text": [
            "2021-06-26T02:45:00Z\n",
            "<class 'str'>\n"
          ],
          "name": "stdout"
        }
      ]
    },
    {
      "cell_type": "code",
      "metadata": {
        "id": "ITpQcaPWVgAp"
      },
      "source": [
        "last6 = df.loc[(df['time_tag'] >= l6) & (df['time_tag'] <= last_t)]"
      ],
      "execution_count": null,
      "outputs": []
    },
    {
      "cell_type": "code",
      "metadata": {
        "colab": {
          "base_uri": "https://localhost:8080/"
        },
        "id": "g6Y-C5OaVyhp",
        "outputId": "cd238b4f-fc0b-4ad9-a0f9-fcfa4dfcad3f"
      },
      "source": [
        "#avg over last 6 hours\n",
        "print(last6[\"flux\"].mean())"
      ],
      "execution_count": null,
      "outputs": [
        {
          "output_type": "stream",
          "text": [
            "8.423902211119387e-08\n"
          ],
          "name": "stdout"
        }
      ]
    },
    {
      "cell_type": "code",
      "metadata": {
        "id": "mjR80LAgXBrz"
      },
      "source": [
        "last6mean = last6[\"flux\"].mean()\n",
        "last24mean = last24[\"flux\"].mean()"
      ],
      "execution_count": null,
      "outputs": []
    },
    {
      "cell_type": "code",
      "metadata": {
        "id": "g2eqZ8VcXL05"
      },
      "source": [
        "bMax = 1e-6\n",
        "cMax = 1e-5\n",
        "mMax = 1e-4\n",
        "\n",
        "def classify(mean):\n",
        "  if (mean<bMax):\n",
        "    return \"B\"\n",
        "  elif (mean<cMax and mean>=bMax):\n",
        "    return \"C\"\n",
        "  elif (mean<mMax and mean>=cMax):\n",
        "    return \"M\"\n",
        "  elif (mean>=mMax):\n",
        "    return \"X\""
      ],
      "execution_count": null,
      "outputs": []
    },
    {
      "cell_type": "code",
      "metadata": {
        "colab": {
          "base_uri": "https://localhost:8080/"
        },
        "id": "d97v7LBoYDmm",
        "outputId": "e5790a8b-3382-4f5d-97ac-e0245ddd5f40"
      },
      "source": [
        "print(last6mean>last24mean)"
      ],
      "execution_count": null,
      "outputs": [
        {
          "output_type": "stream",
          "text": [
            "False\n"
          ],
          "name": "stdout"
        }
      ]
    },
    {
      "cell_type": "code",
      "metadata": {
        "colab": {
          "base_uri": "https://localhost:8080/",
          "height": 43
        },
        "id": "K8649lp7Zjzf",
        "outputId": "7793706a-9145-4220-b5cb-3a89dcaa32aa"
      },
      "source": [
        "classify(last6mean)"
      ],
      "execution_count": null,
      "outputs": [
        {
          "output_type": "execute_result",
          "data": {
            "application/vnd.google.colaboratory.intrinsic+json": {
              "type": "string"
            },
            "text/plain": [
              "'B'"
            ]
          },
          "metadata": {
            "tags": []
          },
          "execution_count": 126
        }
      ]
    },
    {
      "cell_type": "code",
      "metadata": {
        "colab": {
          "base_uri": "https://localhost:8080/",
          "height": 43
        },
        "id": "GhREnGYna-tx",
        "outputId": "78560df7-a488-49d0-98aa-d3fdc8b3f843"
      },
      "source": [
        "classify(last24mean)"
      ],
      "execution_count": null,
      "outputs": [
        {
          "output_type": "execute_result",
          "data": {
            "application/vnd.google.colaboratory.intrinsic+json": {
              "type": "string"
            },
            "text/plain": [
              "'B'"
            ]
          },
          "metadata": {
            "tags": []
          },
          "execution_count": 127
        }
      ]
    },
    {
      "cell_type": "code",
      "metadata": {
        "colab": {
          "base_uri": "https://localhost:8080/"
        },
        "id": "S1zd9TzUbxcZ",
        "outputId": "499a3ba7-0c6b-4287-d0fe-838f42ffd9f8"
      },
      "source": [
        "(last[\"flux\"]>last24mean).bool() and classify(last6mean)>classify(last24mean)"
      ],
      "execution_count": null,
      "outputs": [
        {
          "output_type": "execute_result",
          "data": {
            "text/plain": [
              "False"
            ]
          },
          "metadata": {
            "tags": []
          },
          "execution_count": 128
        }
      ]
    },
    {
      "cell_type": "code",
      "metadata": {
        "colab": {
          "base_uri": "https://localhost:8080/",
          "height": 43
        },
        "id": "lOUlwFo4b9hW",
        "outputId": "e406ddc6-bead-4c80-b5c9-c283df2f2b9d"
      },
      "source": [
        "classify(float((last[\"flux\"].to_string()).split(\"    \")[1]))"
      ],
      "execution_count": null,
      "outputs": [
        {
          "output_type": "execute_result",
          "data": {
            "application/vnd.google.colaboratory.intrinsic+json": {
              "type": "string"
            },
            "text/plain": [
              "'B'"
            ]
          },
          "metadata": {
            "tags": []
          },
          "execution_count": 129
        }
      ]
    },
    {
      "cell_type": "code",
      "metadata": {
        "colab": {
          "base_uri": "https://localhost:8080/"
        },
        "id": "tx9Sc6U6dLcR",
        "outputId": "94491271-f810-4b47-843c-6affb46cb40f"
      },
      "source": [
        "timeStamp = datetime.strftime(datetime.now(), format)\n",
        "print(timeStamp)"
      ],
      "execution_count": null,
      "outputs": [
        {
          "output_type": "stream",
          "text": [
            "2021-06-26T08:57:55Z\n"
          ],
          "name": "stdout"
        }
      ]
    },
    {
      "cell_type": "code",
      "metadata": {
        "id": "7J49bT_QeGq6"
      },
      "source": [
        "ref3.child(timeStamp).update({\n",
        "    'solarFlareClass': classify(float((last[\"flux\"].to_string()).split(\"    \")[1])),\n",
        "    'last6HoursClass':  classify(last6mean),\n",
        "    'last24HoursClass': classify(last24mean),\n",
        "    'solarFlareDetected': (last[\"flux\"]>last24mean).bool() and classify(last6mean)>classify(last24mean),\n",
        "    'timeStamp': timeStamp,\n",
        "})"
      ],
      "execution_count": null,
      "outputs": []
    },
    {
      "cell_type": "code",
      "metadata": {
        "colab": {
          "base_uri": "https://localhost:8080/"
        },
        "id": "_ribbk3QeLSO",
        "outputId": "164c0be8-22c5-47f2-8310-51b81d06deb7"
      },
      "source": [
        "print(df2)"
      ],
      "execution_count": null,
      "outputs": [
        {
          "output_type": "stream",
          "text": [
            "                time_tag  dsflag      dens      speed  temperature\n",
            "0    2021-06-26T09:00:00       0  3.278969  373.84830    48923.262\n",
            "1    2021-06-26T08:00:00       0  2.813893  380.70688    33511.863\n",
            "2    2021-06-26T07:00:00       0  3.105202  378.35623    26306.730\n",
            "3    2021-06-26T06:00:00       0  2.473381  376.91907    58685.516\n",
            "4    2021-06-26T05:00:00       0  1.637354  392.22452    47881.285\n",
            "..                   ...     ...       ...        ...          ...\n",
            "703  2021-05-26T15:00:00       0  1.194139  349.71158    85873.914\n",
            "704  2021-05-26T14:00:00       1  1.438353  345.99432    96774.156\n",
            "705  2021-05-26T13:00:00       1  0.876702  334.82684    63033.637\n",
            "706  2021-05-26T12:00:00       0  1.118588  342.30496    72164.172\n",
            "707  2021-05-26T11:00:00       1  1.489230  302.70419    30185.801\n",
            "\n",
            "[708 rows x 5 columns]\n"
          ],
          "name": "stdout"
        }
      ]
    },
    {
      "cell_type": "code",
      "metadata": {
        "colab": {
          "base_uri": "https://localhost:8080/"
        },
        "id": "sBQsgg9IzK-_",
        "outputId": "ce8355dd-eff8-4dc2-8614-02af5ccc502e"
      },
      "source": [
        "print(first)"
      ],
      "execution_count": null,
      "outputs": [
        {
          "output_type": "stream",
          "text": [
            "2021-06-26T09:00:00\n"
          ],
          "name": "stdout"
        }
      ]
    },
    {
      "cell_type": "code",
      "metadata": {
        "colab": {
          "base_uri": "https://localhost:8080/"
        },
        "id": "lA0ugn4gzZdx",
        "outputId": "10877604-4686-4dae-f5ad-bca2767810d9"
      },
      "source": [
        "speedMean = df2[\"speed\"].mean()\n",
        "print(speedMean)"
      ],
      "execution_count": null,
      "outputs": [
        {
          "output_type": "stream",
          "text": [
            "396.276509066092\n"
          ],
          "name": "stdout"
        }
      ]
    },
    {
      "cell_type": "code",
      "metadata": {
        "colab": {
          "base_uri": "https://localhost:8080/"
        },
        "id": "Qr9qCInRziFa",
        "outputId": "e33349c2-9bc5-4ba6-ff77-5c71245835ff"
      },
      "source": [
        "densityMean = df2[\"dens\"].mean()\n",
        "print(densityMean)"
      ],
      "execution_count": null,
      "outputs": [
        {
          "output_type": "stream",
          "text": [
            "3.433597321221269\n"
          ],
          "name": "stdout"
        }
      ]
    },
    {
      "cell_type": "markdown",
      "metadata": {
        "id": "g0Cwc5740KYR"
      },
      "source": [
        "https://umbra.nascom.nasa.gov/spartan/the_solar_wind.html\n",
        "\n",
        "average solar wind speed = 400\n",
        "when there's solar wind of high class, wind speed between 600 and 1000"
      ]
    },
    {
      "cell_type": "code",
      "metadata": {
        "colab": {
          "base_uri": "https://localhost:8080/"
        },
        "id": "oFQRTW7a0YJ6",
        "outputId": "ba4fcf8d-85dd-466c-8ba3-929aa40a3f67"
      },
      "source": [
        "#look at most recent alert from firebase db\n",
        "#if class of solar flare is C7 --- X\n",
        "#check if there's an increase/spike in solar wind speed + density\n",
        "print(first)\n",
        "print(last)"
      ],
      "execution_count": null,
      "outputs": [
        {
          "output_type": "stream",
          "text": [
            "              time_tag  dsflag      dens     speed  temperature\n",
            "0  2021-06-26T09:00:00       0  3.278969  373.8483    48923.262\n",
            "                  time_tag  satellite  ...  electron_contaminaton     energy\n",
            "2875  2021-06-26T08:45:00Z         16  ...                  False  0.1-0.8nm\n",
            "\n",
            "[1 rows x 7 columns]\n"
          ],
          "name": "stdout"
        }
      ]
    },
    {
      "cell_type": "code",
      "metadata": {
        "colab": {
          "base_uri": "https://localhost:8080/"
        },
        "id": "lZTZ-nXB14Bd",
        "outputId": "3481d1df-2502-483a-eff1-640c2663feca"
      },
      "source": [
        "(first[\"dens\"]>densityMean).bool() and (first[\"dens\"]>5).bool()"
      ],
      "execution_count": null,
      "outputs": [
        {
          "output_type": "execute_result",
          "data": {
            "text/plain": [
              "False"
            ]
          },
          "metadata": {
            "tags": []
          },
          "execution_count": 160
        }
      ]
    },
    {
      "cell_type": "code",
      "metadata": {
        "colab": {
          "base_uri": "https://localhost:8080/"
        },
        "id": "bJC6w9j22GJb",
        "outputId": "d754a19a-bfa8-4f32-95b6-6a27973ccea6"
      },
      "source": [
        "(first[\"speed\"]>speedMean).bool() and (first[\"speed\"]>600).bool()"
      ],
      "execution_count": null,
      "outputs": [
        {
          "output_type": "execute_result",
          "data": {
            "text/plain": [
              "False"
            ]
          },
          "metadata": {
            "tags": []
          },
          "execution_count": 161
        }
      ]
    }
  ]
}